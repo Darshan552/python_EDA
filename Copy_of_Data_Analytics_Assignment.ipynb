{
  "nbformat": 4,
  "nbformat_minor": 0,
  "metadata": {
    "colab": {
      "provenance": [],
      "authorship_tag": "ABX9TyODIY/6P0dS8kzmW1ZQCeFj",
      "include_colab_link": true
    },
    "kernelspec": {
      "name": "python3",
      "display_name": "Python 3"
    },
    "language_info": {
      "name": "python"
    }
  },
  "cells": [
    {
      "cell_type": "markdown",
      "metadata": {
        "id": "view-in-github",
        "colab_type": "text"
      },
      "source": [
        "<a href=\"https://colab.research.google.com/github/Darshan552/python_EDA/blob/main/Copy_of_Data_Analytics_Assignment.ipynb\" target=\"_parent\"><img src=\"https://colab.research.google.com/assets/colab-badge.svg\" alt=\"Open In Colab\"/></a>"
      ]
    },
    {
      "cell_type": "code",
      "execution_count": null,
      "metadata": {
        "id": "UtXrqQyzXG7v"
      },
      "outputs": [],
      "source": [
        "# -----------------------------\n",
        "# 📊 IVT Pattern Analysis Script\n",
        "# -----------------------------\n",
        "import pandas as pd\n",
        "import numpy as np\n",
        "import matplotlib.pyplot as plt\n",
        "import seaborn as sns"
      ]
    },
    {
      "cell_type": "code",
      "metadata": {
        "colab": {
          "base_uri": "https://localhost:8080/"
        },
        "id": "8b7e6465",
        "outputId": "7211a610-63a1-4169-f44d-5a346f060bf5"
      },
      "source": [
        "!pip install tabula-py"
      ],
      "execution_count": null,
      "outputs": [
        {
          "output_type": "stream",
          "name": "stdout",
          "text": [
            "Collecting tabula-py\n",
            "  Downloading tabula_py-2.10.0-py3-none-any.whl.metadata (7.6 kB)\n",
            "Requirement already satisfied: pandas>=0.25.3 in /usr/local/lib/python3.12/dist-packages (from tabula-py) (2.2.2)\n",
            "Requirement already satisfied: numpy>1.24.4 in /usr/local/lib/python3.12/dist-packages (from tabula-py) (2.0.2)\n",
            "Requirement already satisfied: distro in /usr/local/lib/python3.12/dist-packages (from tabula-py) (1.9.0)\n",
            "Requirement already satisfied: python-dateutil>=2.8.2 in /usr/local/lib/python3.12/dist-packages (from pandas>=0.25.3->tabula-py) (2.9.0.post0)\n",
            "Requirement already satisfied: pytz>=2020.1 in /usr/local/lib/python3.12/dist-packages (from pandas>=0.25.3->tabula-py) (2025.2)\n",
            "Requirement already satisfied: tzdata>=2022.7 in /usr/local/lib/python3.12/dist-packages (from pandas>=0.25.3->tabula-py) (2025.2)\n",
            "Requirement already satisfied: six>=1.5 in /usr/local/lib/python3.12/dist-packages (from python-dateutil>=2.8.2->pandas>=0.25.3->tabula-py) (1.17.0)\n",
            "Downloading tabula_py-2.10.0-py3-none-any.whl (12.0 MB)\n",
            "\u001b[2K   \u001b[90m━━━━━━━━━━━━━━━━━━━━━━━━━━━━━━━━━━━━━━━━\u001b[0m \u001b[32m12.0/12.0 MB\u001b[0m \u001b[31m89.0 MB/s\u001b[0m eta \u001b[36m0:00:00\u001b[0m\n",
            "\u001b[?25hInstalling collected packages: tabula-py\n",
            "Successfully installed tabula-py-2.10.0\n"
          ]
        }
      ]
    },
    {
      "cell_type": "markdown",
      "metadata": {
        "id": "348f8678"
      },
      "source": [
        "Once installed, you can use the `read_pdf()` function to extract tables from your PDF. You'll need to provide the path to your PDF file. `tabula-py` can return the tables as a list of pandas DataFrames."
      ]
    },
    {
      "cell_type": "code",
      "metadata": {
        "colab": {
          "base_uri": "https://localhost:8080/"
        },
        "id": "498cf28d",
        "outputId": "0be9da40-5b0c-4f50-980a-7422d536c3ed"
      },
      "source": [
        "import tabula\n",
        "\n",
        "# Replace 'your_pdf_file.pdf' with the actual path to your PDF file\n",
        "pdf_path = '/content/Data Analytics Assignment.pdf'\n",
        "\n",
        "try:\n",
        "    # Read tables from the PDF\n",
        "    tables = tabula.read_pdf(pdf_path, pages='all', multiple_tables=True)\n",
        "\n",
        "    # 'tables' will be a list of DataFrames, one for each table found\n",
        "    if tables:\n",
        "        print(f\"Found {len(tables)} table(s) in the PDF.\")\n",
        "        # You can access individual tables like this:\n",
        "        # df = tables[0]\n",
        "        # display(df.head())\n",
        "\n",
        "        # Or concatenate all tables into a single DataFrame if appropriate\n",
        "        # combined_df = pd.concat(tables)\n",
        "        # display(combined_df.head())\n",
        "    else:\n",
        "        print(\"No tables found in the PDF.\")\n",
        "\n",
        "except Exception as e:\n",
        "    print(f\"An error occurred: {e}\")"
      ],
      "execution_count": null,
      "outputs": [
        {
          "output_type": "stream",
          "name": "stdout",
          "text": [
            "Found 12 table(s) in the PDF.\n"
          ]
        }
      ]
    },
    {
      "cell_type": "code",
      "source": [
        "# Step 1: Load the data\n",
        "# The data is already loaded from the PDF into df = tables[3]\n",
        "# Make sure you have executed the cells to load the data from the PDF\n",
        "df = tables[3]\n",
        "display(df.head())"
      ],
      "metadata": {
        "colab": {
          "base_uri": "https://localhost:8080/",
          "height": 206
        },
        "id": "-6EGhoU9YcpJ",
        "outputId": "05c0febf-f5a6-4c98-d7cf-6dbc27fe7951"
      },
      "execution_count": null,
      "outputs": [
        {
          "output_type": "display_data",
          "data": {
            "text/plain": [
              "   unnamed:_0   2025-09-14_9:00:00  5798  5796  125  6021  1.038461538  0  \\\n",
              "0         NaN  2025-09-14 10:00:00  6856  6854  135  7270     1.060385  0   \n",
              "1         NaN  2025-09-14 11:00:00  6135  6135  131  6420     1.046455  0   \n",
              "2         NaN  2025-09-14 12:00:00  7328  7328  135  7745     1.056905  0   \n",
              "3         NaN  2025-09-14 13:00:00  8128  8124  129  8516     1.047736  0   \n",
              "4         NaN  2025-09-14 14:00:00  8380  8379  121  8700     1.038186  0   \n",
              "\n",
              "   0.1  1.000345066     46.384  0.059259  \n",
              "0    0     1.000292  50.785185  0.021739  \n",
              "1    0     1.000000  46.832061  0.046154  \n",
              "2    0     1.000000  54.281481  0.016129  \n",
              "3    0     1.000492  63.007752  0.064516  \n",
              "4    0     1.000119  69.256198  0.074074  "
            ],
            "text/html": [
              "\n",
              "  <div id=\"df-0240617b-bb90-43dc-b894-36b413c55fa6\" class=\"colab-df-container\">\n",
              "    <div>\n",
              "<style scoped>\n",
              "    .dataframe tbody tr th:only-of-type {\n",
              "        vertical-align: middle;\n",
              "    }\n",
              "\n",
              "    .dataframe tbody tr th {\n",
              "        vertical-align: top;\n",
              "    }\n",
              "\n",
              "    .dataframe thead th {\n",
              "        text-align: right;\n",
              "    }\n",
              "</style>\n",
              "<table border=\"1\" class=\"dataframe\">\n",
              "  <thead>\n",
              "    <tr style=\"text-align: right;\">\n",
              "      <th></th>\n",
              "      <th>unnamed:_0</th>\n",
              "      <th>2025-09-14_9:00:00</th>\n",
              "      <th>5798</th>\n",
              "      <th>5796</th>\n",
              "      <th>125</th>\n",
              "      <th>6021</th>\n",
              "      <th>1.038461538</th>\n",
              "      <th>0</th>\n",
              "      <th>0.1</th>\n",
              "      <th>1.000345066</th>\n",
              "      <th>46.384</th>\n",
              "      <th>0.059259</th>\n",
              "    </tr>\n",
              "  </thead>\n",
              "  <tbody>\n",
              "    <tr>\n",
              "      <th>0</th>\n",
              "      <td>NaN</td>\n",
              "      <td>2025-09-14 10:00:00</td>\n",
              "      <td>6856</td>\n",
              "      <td>6854</td>\n",
              "      <td>135</td>\n",
              "      <td>7270</td>\n",
              "      <td>1.060385</td>\n",
              "      <td>0</td>\n",
              "      <td>0</td>\n",
              "      <td>1.000292</td>\n",
              "      <td>50.785185</td>\n",
              "      <td>0.021739</td>\n",
              "    </tr>\n",
              "    <tr>\n",
              "      <th>1</th>\n",
              "      <td>NaN</td>\n",
              "      <td>2025-09-14 11:00:00</td>\n",
              "      <td>6135</td>\n",
              "      <td>6135</td>\n",
              "      <td>131</td>\n",
              "      <td>6420</td>\n",
              "      <td>1.046455</td>\n",
              "      <td>0</td>\n",
              "      <td>0</td>\n",
              "      <td>1.000000</td>\n",
              "      <td>46.832061</td>\n",
              "      <td>0.046154</td>\n",
              "    </tr>\n",
              "    <tr>\n",
              "      <th>2</th>\n",
              "      <td>NaN</td>\n",
              "      <td>2025-09-14 12:00:00</td>\n",
              "      <td>7328</td>\n",
              "      <td>7328</td>\n",
              "      <td>135</td>\n",
              "      <td>7745</td>\n",
              "      <td>1.056905</td>\n",
              "      <td>0</td>\n",
              "      <td>0</td>\n",
              "      <td>1.000000</td>\n",
              "      <td>54.281481</td>\n",
              "      <td>0.016129</td>\n",
              "    </tr>\n",
              "    <tr>\n",
              "      <th>3</th>\n",
              "      <td>NaN</td>\n",
              "      <td>2025-09-14 13:00:00</td>\n",
              "      <td>8128</td>\n",
              "      <td>8124</td>\n",
              "      <td>129</td>\n",
              "      <td>8516</td>\n",
              "      <td>1.047736</td>\n",
              "      <td>0</td>\n",
              "      <td>0</td>\n",
              "      <td>1.000492</td>\n",
              "      <td>63.007752</td>\n",
              "      <td>0.064516</td>\n",
              "    </tr>\n",
              "    <tr>\n",
              "      <th>4</th>\n",
              "      <td>NaN</td>\n",
              "      <td>2025-09-14 14:00:00</td>\n",
              "      <td>8380</td>\n",
              "      <td>8379</td>\n",
              "      <td>121</td>\n",
              "      <td>8700</td>\n",
              "      <td>1.038186</td>\n",
              "      <td>0</td>\n",
              "      <td>0</td>\n",
              "      <td>1.000119</td>\n",
              "      <td>69.256198</td>\n",
              "      <td>0.074074</td>\n",
              "    </tr>\n",
              "  </tbody>\n",
              "</table>\n",
              "</div>\n",
              "    <div class=\"colab-df-buttons\">\n",
              "\n",
              "  <div class=\"colab-df-container\">\n",
              "    <button class=\"colab-df-convert\" onclick=\"convertToInteractive('df-0240617b-bb90-43dc-b894-36b413c55fa6')\"\n",
              "            title=\"Convert this dataframe to an interactive table.\"\n",
              "            style=\"display:none;\">\n",
              "\n",
              "  <svg xmlns=\"http://www.w3.org/2000/svg\" height=\"24px\" viewBox=\"0 -960 960 960\">\n",
              "    <path d=\"M120-120v-720h720v720H120Zm60-500h600v-160H180v160Zm220 220h160v-160H400v160Zm0 220h160v-160H400v160ZM180-400h160v-160H180v160Zm440 0h160v-160H620v160ZM180-180h160v-160H180v160Zm440 0h160v-160H620v160Z\"/>\n",
              "  </svg>\n",
              "    </button>\n",
              "\n",
              "  <style>\n",
              "    .colab-df-container {\n",
              "      display:flex;\n",
              "      gap: 12px;\n",
              "    }\n",
              "\n",
              "    .colab-df-convert {\n",
              "      background-color: #E8F0FE;\n",
              "      border: none;\n",
              "      border-radius: 50%;\n",
              "      cursor: pointer;\n",
              "      display: none;\n",
              "      fill: #1967D2;\n",
              "      height: 32px;\n",
              "      padding: 0 0 0 0;\n",
              "      width: 32px;\n",
              "    }\n",
              "\n",
              "    .colab-df-convert:hover {\n",
              "      background-color: #E2EBFA;\n",
              "      box-shadow: 0px 1px 2px rgba(60, 64, 67, 0.3), 0px 1px 3px 1px rgba(60, 64, 67, 0.15);\n",
              "      fill: #174EA6;\n",
              "    }\n",
              "\n",
              "    .colab-df-buttons div {\n",
              "      margin-bottom: 4px;\n",
              "    }\n",
              "\n",
              "    [theme=dark] .colab-df-convert {\n",
              "      background-color: #3B4455;\n",
              "      fill: #D2E3FC;\n",
              "    }\n",
              "\n",
              "    [theme=dark] .colab-df-convert:hover {\n",
              "      background-color: #434B5C;\n",
              "      box-shadow: 0px 1px 3px 1px rgba(0, 0, 0, 0.15);\n",
              "      filter: drop-shadow(0px 1px 2px rgba(0, 0, 0, 0.3));\n",
              "      fill: #FFFFFF;\n",
              "    }\n",
              "  </style>\n",
              "\n",
              "    <script>\n",
              "      const buttonEl =\n",
              "        document.querySelector('#df-0240617b-bb90-43dc-b894-36b413c55fa6 button.colab-df-convert');\n",
              "      buttonEl.style.display =\n",
              "        google.colab.kernel.accessAllowed ? 'block' : 'none';\n",
              "\n",
              "      async function convertToInteractive(key) {\n",
              "        const element = document.querySelector('#df-0240617b-bb90-43dc-b894-36b413c55fa6');\n",
              "        const dataTable =\n",
              "          await google.colab.kernel.invokeFunction('convertToInteractive',\n",
              "                                                    [key], {});\n",
              "        if (!dataTable) return;\n",
              "\n",
              "        const docLinkHtml = 'Like what you see? Visit the ' +\n",
              "          '<a target=\"_blank\" href=https://colab.research.google.com/notebooks/data_table.ipynb>data table notebook</a>'\n",
              "          + ' to learn more about interactive tables.';\n",
              "        element.innerHTML = '';\n",
              "        dataTable['output_type'] = 'display_data';\n",
              "        await google.colab.output.renderOutput(dataTable, element);\n",
              "        const docLink = document.createElement('div');\n",
              "        docLink.innerHTML = docLinkHtml;\n",
              "        element.appendChild(docLink);\n",
              "      }\n",
              "    </script>\n",
              "  </div>\n",
              "\n",
              "\n",
              "    <div id=\"df-edbafb85-4b52-4df1-bbeb-95b335351f34\">\n",
              "      <button class=\"colab-df-quickchart\" onclick=\"quickchart('df-edbafb85-4b52-4df1-bbeb-95b335351f34')\"\n",
              "                title=\"Suggest charts\"\n",
              "                style=\"display:none;\">\n",
              "\n",
              "<svg xmlns=\"http://www.w3.org/2000/svg\" height=\"24px\"viewBox=\"0 0 24 24\"\n",
              "     width=\"24px\">\n",
              "    <g>\n",
              "        <path d=\"M19 3H5c-1.1 0-2 .9-2 2v14c0 1.1.9 2 2 2h14c1.1 0 2-.9 2-2V5c0-1.1-.9-2-2-2zM9 17H7v-7h2v7zm4 0h-2V7h2v10zm4 0h-2v-4h2v4z\"/>\n",
              "    </g>\n",
              "</svg>\n",
              "      </button>\n",
              "\n",
              "<style>\n",
              "  .colab-df-quickchart {\n",
              "      --bg-color: #E8F0FE;\n",
              "      --fill-color: #1967D2;\n",
              "      --hover-bg-color: #E2EBFA;\n",
              "      --hover-fill-color: #174EA6;\n",
              "      --disabled-fill-color: #AAA;\n",
              "      --disabled-bg-color: #DDD;\n",
              "  }\n",
              "\n",
              "  [theme=dark] .colab-df-quickchart {\n",
              "      --bg-color: #3B4455;\n",
              "      --fill-color: #D2E3FC;\n",
              "      --hover-bg-color: #434B5C;\n",
              "      --hover-fill-color: #FFFFFF;\n",
              "      --disabled-bg-color: #3B4455;\n",
              "      --disabled-fill-color: #666;\n",
              "  }\n",
              "\n",
              "  .colab-df-quickchart {\n",
              "    background-color: var(--bg-color);\n",
              "    border: none;\n",
              "    border-radius: 50%;\n",
              "    cursor: pointer;\n",
              "    display: none;\n",
              "    fill: var(--fill-color);\n",
              "    height: 32px;\n",
              "    padding: 0;\n",
              "    width: 32px;\n",
              "  }\n",
              "\n",
              "  .colab-df-quickchart:hover {\n",
              "    background-color: var(--hover-bg-color);\n",
              "    box-shadow: 0 1px 2px rgba(60, 64, 67, 0.3), 0 1px 3px 1px rgba(60, 64, 67, 0.15);\n",
              "    fill: var(--button-hover-fill-color);\n",
              "  }\n",
              "\n",
              "  .colab-df-quickchart-complete:disabled,\n",
              "  .colab-df-quickchart-complete:disabled:hover {\n",
              "    background-color: var(--disabled-bg-color);\n",
              "    fill: var(--disabled-fill-color);\n",
              "    box-shadow: none;\n",
              "  }\n",
              "\n",
              "  .colab-df-spinner {\n",
              "    border: 2px solid var(--fill-color);\n",
              "    border-color: transparent;\n",
              "    border-bottom-color: var(--fill-color);\n",
              "    animation:\n",
              "      spin 1s steps(1) infinite;\n",
              "  }\n",
              "\n",
              "  @keyframes spin {\n",
              "    0% {\n",
              "      border-color: transparent;\n",
              "      border-bottom-color: var(--fill-color);\n",
              "      border-left-color: var(--fill-color);\n",
              "    }\n",
              "    20% {\n",
              "      border-color: transparent;\n",
              "      border-left-color: var(--fill-color);\n",
              "      border-top-color: var(--fill-color);\n",
              "    }\n",
              "    30% {\n",
              "      border-color: transparent;\n",
              "      border-left-color: var(--fill-color);\n",
              "      border-top-color: var(--fill-color);\n",
              "      border-right-color: var(--fill-color);\n",
              "    }\n",
              "    40% {\n",
              "      border-color: transparent;\n",
              "      border-right-color: var(--fill-color);\n",
              "      border-top-color: var(--fill-color);\n",
              "    }\n",
              "    60% {\n",
              "      border-color: transparent;\n",
              "      border-right-color: var(--fill-color);\n",
              "    }\n",
              "    80% {\n",
              "      border-color: transparent;\n",
              "      border-right-color: var(--fill-color);\n",
              "      border-bottom-color: var(--fill-color);\n",
              "    }\n",
              "    90% {\n",
              "      border-color: transparent;\n",
              "      border-bottom-color: var(--fill-color);\n",
              "    }\n",
              "  }\n",
              "</style>\n",
              "\n",
              "      <script>\n",
              "        async function quickchart(key) {\n",
              "          const quickchartButtonEl =\n",
              "            document.querySelector('#' + key + ' button');\n",
              "          quickchartButtonEl.disabled = true;  // To prevent multiple clicks.\n",
              "          quickchartButtonEl.classList.add('colab-df-spinner');\n",
              "          try {\n",
              "            const charts = await google.colab.kernel.invokeFunction(\n",
              "                'suggestCharts', [key], {});\n",
              "          } catch (error) {\n",
              "            console.error('Error during call to suggestCharts:', error);\n",
              "          }\n",
              "          quickchartButtonEl.classList.remove('colab-df-spinner');\n",
              "          quickchartButtonEl.classList.add('colab-df-quickchart-complete');\n",
              "        }\n",
              "        (() => {\n",
              "          let quickchartButtonEl =\n",
              "            document.querySelector('#df-edbafb85-4b52-4df1-bbeb-95b335351f34 button');\n",
              "          quickchartButtonEl.style.display =\n",
              "            google.colab.kernel.accessAllowed ? 'block' : 'none';\n",
              "        })();\n",
              "      </script>\n",
              "    </div>\n",
              "\n",
              "    </div>\n",
              "  </div>\n"
            ],
            "application/vnd.google.colaboratory.intrinsic+json": {
              "type": "dataframe",
              "summary": "{\n  \"name\": \"display(df\",\n  \"rows\": 5,\n  \"fields\": [\n    {\n      \"column\": \"unnamed:_0\",\n      \"properties\": {\n        \"dtype\": \"number\",\n        \"std\": null,\n        \"min\": null,\n        \"max\": null,\n        \"num_unique_values\": 0,\n        \"samples\": [],\n        \"semantic_type\": \"\",\n        \"description\": \"\"\n      }\n    },\n    {\n      \"column\": \"2025-09-14_9:00:00\",\n      \"properties\": {\n        \"dtype\": \"object\",\n        \"num_unique_values\": 5,\n        \"samples\": [],\n        \"semantic_type\": \"\",\n        \"description\": \"\"\n      }\n    },\n    {\n      \"column\": \"5798\",\n      \"properties\": {\n        \"dtype\": \"number\",\n        \"std\": 920,\n        \"min\": 6135,\n        \"max\": 8380,\n        \"num_unique_values\": 5,\n        \"samples\": [],\n        \"semantic_type\": \"\",\n        \"description\": \"\"\n      }\n    },\n    {\n      \"column\": \"5796\",\n      \"properties\": {\n        \"dtype\": \"number\",\n        \"std\": 919,\n        \"min\": 6135,\n        \"max\": 8379,\n        \"num_unique_values\": 5,\n        \"samples\": [],\n        \"semantic_type\": \"\",\n        \"description\": \"\"\n      }\n    },\n    {\n      \"column\": \"125\",\n      \"properties\": {\n        \"dtype\": \"number\",\n        \"std\": 5,\n        \"min\": 121,\n        \"max\": 135,\n        \"num_unique_values\": 4,\n        \"samples\": [],\n        \"semantic_type\": \"\",\n        \"description\": \"\"\n      }\n    },\n    {\n      \"column\": \"6021\",\n      \"properties\": {\n        \"dtype\": \"number\",\n        \"std\": 933,\n        \"min\": 6420,\n        \"max\": 8700,\n        \"num_unique_values\": 5,\n        \"samples\": [],\n        \"semantic_type\": \"\",\n        \"description\": \"\"\n      }\n    },\n    {\n      \"column\": \"1.038461538\",\n      \"properties\": {\n        \"dtype\": \"number\",\n        \"std\": 0.008842609468072827,\n        \"min\": 1.038186158,\n        \"max\": 1.060385064,\n        \"num_unique_values\": 5,\n        \"samples\": [],\n        \"semantic_type\": \"\",\n        \"description\": \"\"\n      }\n    },\n    {\n      \"column\": \"0\",\n      \"properties\": {\n        \"dtype\": \"number\",\n        \"std\": 0,\n        \"min\": 0,\n        \"max\": 0,\n        \"num_unique_values\": 1,\n        \"samples\": [],\n        \"semantic_type\": \"\",\n        \"description\": \"\"\n      }\n    },\n    {\n      \"column\": \"0.1\",\n      \"properties\": {\n        \"dtype\": \"number\",\n        \"std\": 0,\n        \"min\": 0,\n        \"max\": 0,\n        \"num_unique_values\": 1,\n        \"samples\": [],\n        \"semantic_type\": \"\",\n        \"description\": \"\"\n      }\n    },\n    {\n      \"column\": \"1.000345066\",\n      \"properties\": {\n        \"dtype\": \"number\",\n        \"std\": 0.00021127555792187423,\n        \"min\": 1.0,\n        \"max\": 1.000492368,\n        \"num_unique_values\": 4,\n        \"samples\": [],\n        \"semantic_type\": \"\",\n        \"description\": \"\"\n      }\n    },\n    {\n      \"column\": \"46.384\",\n      \"properties\": {\n        \"dtype\": \"number\",\n        \"std\": 9.15926454336285,\n        \"min\": 46.83206107,\n        \"max\": 69.25619835,\n        \"num_unique_values\": 5,\n        \"samples\": [],\n        \"semantic_type\": \"\",\n        \"description\": \"\"\n      }\n    },\n    {\n      \"column\": \"0.059259\",\n      \"properties\": {\n        \"dtype\": \"number\",\n        \"std\": 0.02549986128001484,\n        \"min\": 0.016129,\n        \"max\": 0.074074,\n        \"num_unique_values\": 5,\n        \"samples\": [],\n        \"semantic_type\": \"\",\n        \"description\": \"\"\n      }\n    }\n  ]\n}"
            }
          },
          "metadata": {}
        }
      ]
    },
    {
      "cell_type": "code",
      "source": [
        "\n",
        "# Step 2: Basic cleanup\n",
        "# Assuming the first column (index 0) is the date/time column\n",
        "# The column names after loading from PDF are not descriptive,\n",
        "# so we need to refer to them by index or rename them.\n",
        "# Let's try to use column indices based on the structure shown in df.head()\n",
        "# The first column is the date/time. Let's rename it to 'date' for consistency.\n",
        "df = tables[3].copy() # Work on a copy to avoid modifying the original list element\n",
        "df.columns = df.iloc[0] # Use the first row as headers\n",
        "df = df[1:].reset_index(drop=True) # Remove the first row and reset index\n",
        "\n",
        "# Convert column names to strings to avoid issues with complex types\n",
        "df.columns = df.columns.astype(str)\n",
        "\n",
        "# The actual date/time is in the first column after renaming headers.\n",
        "# Let's rename the first column to 'date'\n",
        "df = df.rename(columns={df.columns[0]: 'date'})\n",
        "\n",
        "\n",
        "# Convert the 'date' column to datetime objects\n",
        "df['date'] = pd.to_datetime(df['date'], errors='coerce')\n",
        "\n",
        "# Convert other columns to numeric, coercing errors\n",
        "# Based on the df.head() output, let's assume the following columns are metrics:\n",
        "# requests, impressions, idfa_ip_ratio, idfa_ua_ratio, ivt\n",
        "# These seem to be columns with indices 2, 3, 6, 8, 10 (0-based) in the original table structure\n",
        "# After renaming the columns using the first row and dropping the first row,\n",
        "# the indices might shift or the names will be the values from the first row.\n",
        "# Let's inspect the columns after renaming and then select the metric columns.\n",
        "\n",
        "print(\"Columns after renaming:\", df.columns.tolist())"
      ],
      "metadata": {
        "colab": {
          "base_uri": "https://localhost:8080/"
        },
        "id": "draakO65rggV",
        "outputId": "ef737575-53c9-4ec0-a39e-211c988b4e1b"
      },
      "execution_count": null,
      "outputs": [
        {
          "output_type": "stream",
          "name": "stdout",
          "text": [
            "Columns after renaming: ['date', '2025-09-14 10:00:00', '6856', '6854', '135', '7270', '1.060385064', '0', '0', '1.0002918', '50.78518519', '0.021739']\n"
          ]
        }
      ]
    },
    {
      "cell_type": "code",
      "source": [
        "# **IMPORTANT:** You need to verify these column names/indices match your actual data\n",
        "# Adjust these names based on the output of the above print statement and your PDF content.\n",
        "# Let's assume the metrics columns are now named based on the values in the original first row.\n",
        "# Based on the head, potential metric columns could be related to '5798', '5796', '1.038461538', etc.\n",
        "# This is highly ambiguous. For the purpose of running the code, I will make assumptions\n",
        "# based on typical IVT analysis metrics, but **you must verify these column names**.\n",
        "\n",
        "# Let's try to select columns by index assuming the first column is date, and then metrics follow\n",
        "# This approach is safer if the first row is a header but the column names are not meaningful.\n",
        "# Based on the original code's metrics:\n",
        "# 'requests_per_idfa', 'impressions_per_idfa', 'idfa_ip_ratio', 'idfa_ua_ratio', 'ivt'\n",
        "# Let's assume these correspond to columns with original indices 2, 3, 6, 8, 10.\n",
        "# After using the first row as header and dropping it, the column with original index 1 is now 'date'.\n",
        "# The column with original index 2 is now the second column (index 1) in the new df.\n",
        "# The column with original index 3 is now the third column (index 2).\n",
        "# The column with original index 6 is now the sixth column (index 5).\n",
        "# The column with original index 8 is now the eighth column (index 7).\n",
        "# The column with original index 10 is now the tenth column (index 9).\n",
        "\n",
        "# Define the list of columns we expect to be metrics, using their new 0-based index after cleanup\n",
        "# (Assuming the first column is date, and subsequent columns are indexed from 1)\n",
        "metric_indices = [1, 2, 5, 7, 9] # Indices corresponding to Requests, Impressions, IP Ratio, UA Ratio, IVT based on original structure\n",
        "\n",
        "# Define the new names for these metric columns\n",
        "metric_names = ['requests', 'impressions', 'idfa_ip_ratio', 'idfa_ua_ratio', 'ivt'] # Simplified names\n",
        "\n",
        "# Select the metric columns using their indices and rename them\n",
        "for i, col_index in enumerate(metric_indices):\n",
        "    # Check if the column index is valid\n",
        "    if col_index < len(df.columns):\n",
        "        # Rename the column at col_index to the corresponding metric_name\n",
        "        df = df.rename(columns={df.columns[col_index]: metric_names[i]})\n",
        "    else:\n",
        "        print(f\"Warning: Column index {col_index} is out of bounds. Cannot assign metric name {metric_names[i]}.\")"
      ],
      "metadata": {
        "id": "LowLsVKFrrmf"
      },
      "execution_count": null,
      "outputs": []
    },
    {
      "cell_type": "code",
      "source": [
        "# Now, define the metrics list using the simplified names\n",
        "metrics = metric_names\n",
        "\n",
        "# Convert the metric columns to numeric, coercing errors\n",
        "for col in metrics:\n",
        "    if col in df.columns:\n",
        "        df[col] = pd.to_numeric(df[col], errors='coerce')\n",
        "    else:\n",
        "        print(f\"Error: Metric column '{col}' not found in DataFrame.\")\n",
        "\n",
        "\n",
        "# Check missing values after conversion\n",
        "print(\"Missing values after cleanup:\\n\", df[metrics].isnull().sum())"
      ],
      "metadata": {
        "colab": {
          "base_uri": "https://localhost:8080/",
          "height": 332
        },
        "id": "bmdeECGVryx8",
        "outputId": "4956c150-8205-4dd9-b566-27bccf897363"
      },
      "execution_count": null,
      "outputs": [
        {
          "output_type": "error",
          "ename": "TypeError",
          "evalue": "arg must be a list, tuple, 1-d array, or Series",
          "traceback": [
            "\u001b[0;31m---------------------------------------------------------------------------\u001b[0m",
            "\u001b[0;31mTypeError\u001b[0m                                 Traceback (most recent call last)",
            "\u001b[0;32m/tmp/ipython-input-2379144277.py\u001b[0m in \u001b[0;36m<cell line: 0>\u001b[0;34m()\u001b[0m\n\u001b[1;32m      5\u001b[0m \u001b[0;32mfor\u001b[0m \u001b[0mcol\u001b[0m \u001b[0;32min\u001b[0m \u001b[0mmetrics\u001b[0m\u001b[0;34m:\u001b[0m\u001b[0;34m\u001b[0m\u001b[0;34m\u001b[0m\u001b[0m\n\u001b[1;32m      6\u001b[0m     \u001b[0;32mif\u001b[0m \u001b[0mcol\u001b[0m \u001b[0;32min\u001b[0m \u001b[0mdf\u001b[0m\u001b[0;34m.\u001b[0m\u001b[0mcolumns\u001b[0m\u001b[0;34m:\u001b[0m\u001b[0;34m\u001b[0m\u001b[0;34m\u001b[0m\u001b[0m\n\u001b[0;32m----> 7\u001b[0;31m         \u001b[0mdf\u001b[0m\u001b[0;34m[\u001b[0m\u001b[0mcol\u001b[0m\u001b[0;34m]\u001b[0m \u001b[0;34m=\u001b[0m \u001b[0mpd\u001b[0m\u001b[0;34m.\u001b[0m\u001b[0mto_numeric\u001b[0m\u001b[0;34m(\u001b[0m\u001b[0mdf\u001b[0m\u001b[0;34m[\u001b[0m\u001b[0mcol\u001b[0m\u001b[0;34m]\u001b[0m\u001b[0;34m,\u001b[0m \u001b[0merrors\u001b[0m\u001b[0;34m=\u001b[0m\u001b[0;34m'coerce'\u001b[0m\u001b[0;34m)\u001b[0m\u001b[0;34m\u001b[0m\u001b[0;34m\u001b[0m\u001b[0m\n\u001b[0m\u001b[1;32m      8\u001b[0m     \u001b[0;32melse\u001b[0m\u001b[0;34m:\u001b[0m\u001b[0;34m\u001b[0m\u001b[0;34m\u001b[0m\u001b[0m\n\u001b[1;32m      9\u001b[0m         \u001b[0mprint\u001b[0m\u001b[0;34m(\u001b[0m\u001b[0;34mf\"Error: Metric column '{col}' not found in DataFrame.\"\u001b[0m\u001b[0;34m)\u001b[0m\u001b[0;34m\u001b[0m\u001b[0;34m\u001b[0m\u001b[0m\n",
            "\u001b[0;32m/usr/local/lib/python3.12/dist-packages/pandas/core/tools/numeric.py\u001b[0m in \u001b[0;36mto_numeric\u001b[0;34m(arg, errors, downcast, dtype_backend)\u001b[0m\n\u001b[1;32m    204\u001b[0m         \u001b[0mvalues\u001b[0m \u001b[0;34m=\u001b[0m \u001b[0mnp\u001b[0m\u001b[0;34m.\u001b[0m\u001b[0marray\u001b[0m\u001b[0;34m(\u001b[0m\u001b[0;34m[\u001b[0m\u001b[0marg\u001b[0m\u001b[0;34m]\u001b[0m\u001b[0;34m,\u001b[0m \u001b[0mdtype\u001b[0m\u001b[0;34m=\u001b[0m\u001b[0;34m\"O\"\u001b[0m\u001b[0;34m)\u001b[0m\u001b[0;34m\u001b[0m\u001b[0;34m\u001b[0m\u001b[0m\n\u001b[1;32m    205\u001b[0m     \u001b[0;32melif\u001b[0m \u001b[0mgetattr\u001b[0m\u001b[0;34m(\u001b[0m\u001b[0marg\u001b[0m\u001b[0;34m,\u001b[0m \u001b[0;34m\"ndim\"\u001b[0m\u001b[0;34m,\u001b[0m \u001b[0;36m1\u001b[0m\u001b[0;34m)\u001b[0m \u001b[0;34m>\u001b[0m \u001b[0;36m1\u001b[0m\u001b[0;34m:\u001b[0m\u001b[0;34m\u001b[0m\u001b[0;34m\u001b[0m\u001b[0m\n\u001b[0;32m--> 206\u001b[0;31m         \u001b[0;32mraise\u001b[0m \u001b[0mTypeError\u001b[0m\u001b[0;34m(\u001b[0m\u001b[0;34m\"arg must be a list, tuple, 1-d array, or Series\"\u001b[0m\u001b[0;34m)\u001b[0m\u001b[0;34m\u001b[0m\u001b[0;34m\u001b[0m\u001b[0m\n\u001b[0m\u001b[1;32m    207\u001b[0m     \u001b[0;32melse\u001b[0m\u001b[0;34m:\u001b[0m\u001b[0;34m\u001b[0m\u001b[0;34m\u001b[0m\u001b[0m\n\u001b[1;32m    208\u001b[0m         \u001b[0mvalues\u001b[0m \u001b[0;34m=\u001b[0m \u001b[0marg\u001b[0m\u001b[0;34m\u001b[0m\u001b[0;34m\u001b[0m\u001b[0m\n",
            "\u001b[0;31mTypeError\u001b[0m: arg must be a list, tuple, 1-d array, or Series"
          ]
        }
      ]
    },
    {
      "cell_type": "code",
      "source": [
        "# Check missing values after conversion\n",
        "print(\"Missing values after cleanup:\\n\", df[metrics].isnull().sum())"
      ],
      "metadata": {
        "colab": {
          "base_uri": "https://localhost:8080/"
        },
        "id": "1ldbvLjtr5Qq",
        "outputId": "762882b3-24ff-47cc-fe30-c7c24ba63a43"
      },
      "execution_count": null,
      "outputs": [
        {
          "output_type": "stream",
          "name": "stdout",
          "text": [
            "Missing values after cleanup:\n",
            " 0\n",
            "requests         15\n",
            "impressions       0\n",
            "idfa_ip_ratio     0\n",
            "idfa_ua_ratio     0\n",
            "idfa_ua_ratio     0\n",
            "ivt               0\n",
            "dtype: int64\n"
          ]
        }
      ]
    },
    {
      "cell_type": "code",
      "source": [
        "# Step 5: Correlation analysis\n",
        "# This can be done with the available numeric metric columns.\n",
        "if all(col in df.columns for col in metrics):\n",
        "    corr = df[metrics].corr()\n",
        "    plt.figure(figsize=(6,4))\n",
        "    sns.heatmap(corr, annot=True, cmap='Blues')\n",
        "    plt.title('Correlation Matrix - IVT Indicators')\n",
        "    plt.show()\n",
        "else:\n",
        "    print(\"\\nSkipping Correlation analysis due to missing metric columns.\")"
      ],
      "metadata": {
        "colab": {
          "base_uri": "https://localhost:8080/",
          "height": 486
        },
        "id": "Eh2ddAr3r-tF",
        "outputId": "1bc2b605-e5c8-49c5-a140-cbd074a86664"
      },
      "execution_count": null,
      "outputs": [
        {
          "output_type": "display_data",
          "data": {
            "text/plain": [
              "<Figure size 600x400 with 2 Axes>"
            ],
            "image/png": "[encoded data removed]"
          },
          "metadata": {}
        }
      ]
    },
    {
      "cell_type": "code",
      "source": [
        "# Step 6: Compare IVT vs Non-IVT Behavior\n",
        "# This step requires the 'ivt_type' column which is derived from 'app_name' summary.\n",
        "# Skipping this step as 'app_name' is not available.\n",
        "# plt.figure(figsize=(8,5))\n",
        "# sns.boxplot(x='ivt_type', y='requests_per_idfa', data=df.merge(app_summary[['app_name', 'ivt_type']], on='app_name'))\n",
        "# plt.title('Requests per IDFA across IVT Types')\n",
        "# plt.show()\n",
        "#\n",
        "# plt.figure(figsize=(8,5))\n",
        "# sns.boxplot(x='ivt_type', y='idfa_ip_ratio', data=df.merge(app_summary[['app_name', 'ivt_type']], on='app_name'))\n",
        "# plt.title('IDFA-IP Ratio across IVT Types')\n",
        "# plt.show()"
      ],
      "metadata": {
        "id": "5Ay5ibldsD_D"
      },
      "execution_count": null,
      "outputs": []
    },
    {
      "cell_type": "code",
      "source": [
        "\n",
        "# Step 7: Time pattern analysis (hourly or daily trends)\n",
        "# This requires 'date' and 'app_name'. We have 'date', but not 'app_name'.\n",
        "# We can perform a time pattern analysis for the overall data (not per app).\n",
        "\n",
        "if 'date' in df.columns and 'ivt' in df.columns:\n",
        "    # Group by date and calculate the mean IVT\n",
        "    time_summary_overall = df.groupby('date')[metrics].mean().reset_index()\n",
        "\n",
        "    plt.figure(figsize=(10,5))\n",
        "    plt.plot(time_summary_overall['date'], time_summary_overall['ivt'])\n",
        "    plt.title(\"Overall IVT % Over Time\")\n",
        "    plt.xlabel(\"Date\")\n",
        "    plt.ylabel(\"IVT %\")\n",
        "    plt.show()\n",
        "else:\n",
        "    print(\"\\nSkipping Time pattern analysis due to missing 'date' or 'ivt' columns.\")"
      ],
      "metadata": {
        "colab": {
          "base_uri": "https://localhost:8080/",
          "height": 487
        },
        "id": "QLXp8Te2sJ0b",
        "outputId": "6f83f99c-8755-4cdd-b2e1-8c6e39af478e"
      },
      "execution_count": null,
      "outputs": [
        {
          "output_type": "display_data",
          "data": {
            "text/plain": [
              "<Figure size 1000x500 with 1 Axes>"
            ],
            "image/png": "[encoded data removed]"
          },
          "metadata": {}
        }
      ]
    },
    {
      "cell_type": "code",
      "source": [
        "# Step 8: Summary insights\n",
        "# The original insights are based on app classification, which we skipped.\n",
        "# We can provide a general insight based on the correlation matrix and overall trends if available.\n",
        "print(\"\\n🧠 General Insights (based on available data):\")\n",
        "if all(col in df.columns for col in metrics):\n",
        "    print(\"- Correlation analysis provides insight into the relationships between different IVT indicators.\")\n",
        "if 'date' in df.columns and 'ivt' in df.columns:\n",
        "    print(\"- The overall IVT % over time can reveal general trends.\")\n",
        "else:\n",
        "     print(\"- Limited insights available as 'app_name' is missing and some metric columns might not be identified correctly.\")"
      ],
      "metadata": {
        "colab": {
          "base_uri": "https://localhost:8080/"
        },
        "id": "LyMN27VjsOq6",
        "outputId": "f5913ab5-5825-4e58-b2a4-cee4eb55e7be"
      },
      "execution_count": null,
      "outputs": [
        {
          "output_type": "stream",
          "name": "stdout",
          "text": [
            "\n",
            "🧠 General Insights (based on available data):\n",
            "- Correlation analysis provides insight into the relationships between different IVT indicators.\n",
            "- The overall IVT % over time can reveal general trends.\n"
          ]
        }
      ]
    },
    {
      "cell_type": "code",
      "source": [
        "\n",
        "\n",
        "\n",
        "# Step 9: Export results\n",
        "# We skipped the app summary, so we cannot export app_summary.csv.\n",
        "# If you perform other analyses and want to export results, you can add that here.\n",
        "print(\"\\nAnalysis complete! Note: App-specific analysis and summary export were skipped as 'app_name' column was not found.\")"
      ],
      "metadata": {
        "colab": {
          "base_uri": "https://localhost:8080/"
        },
        "id": "QxBfP8gHYcrz",
        "outputId": "a79da54f-658f-40fb-fe15-aa1078e5ffd6"
      },
      "execution_count": null,
      "outputs": [
        {
          "output_type": "stream",
          "name": "stdout",
          "text": [
            "\n",
            "Analysis complete! Note: App-specific analysis and summary export were skipped as 'app_name' column was not found.\n"
          ]
        }
      ]
    }
  ]
}